{
 "cells": [
  {
   "cell_type": "markdown",
   "id": "7b9b0a09",
   "metadata": {},
   "source": [
    "# Ray: Task Programming with Remote Task/Actor Functions\n",
    "\n",
    "To install Ray on AWS EC2: run\n",
    "```sh\n",
    "$ pip3 install ray\n",
    "```"
   ]
  },
  {
   "cell_type": "code",
   "execution_count": 1,
   "id": "bbcfc876",
   "metadata": {},
   "outputs": [
    {
     "name": "stdout",
     "output_type": "stream",
     "text": [
      "Successfully imported ray!\n"
     ]
    }
   ],
   "source": [
    "from __future__ import absolute_import\n",
    "from __future__ import division\n",
    "from __future__ import print_function\n",
    "\n",
    "import ray\n",
    "import time\n",
    "import math\n",
    "import random\n",
    "from fractions import Fraction\n",
    "import numpy as np\n",
    "\n",
    "print(\"Successfully imported ray!\")"
   ]
  },
  {
   "cell_type": "markdown",
   "id": "3eda09cb",
   "metadata": {},
   "source": [
    "This initialize a local Ray environment that runs locally on this EC2 instance."
   ]
  },
  {
   "cell_type": "code",
   "execution_count": 2,
   "id": "b68e7e5b",
   "metadata": {},
   "outputs": [
    {
     "name": "stderr",
     "output_type": "stream",
     "text": [
      "2023-04-03 02:42:05,408\tINFO worker.py:1553 -- Started a local Ray instance.\n"
     ]
    }
   ],
   "source": [
    "#ray.init(address='172.31.32.99:6379', num_cpus=2, ignore_reinit_error=True)\n",
    "ray.init(num_cpus=2, ignore_reinit_error=True)\n",
    "\n",
    "time.sleep(2.0)"
   ]
  },
  {
   "cell_type": "markdown",
   "id": "b4618c33",
   "metadata": {},
   "source": [
    "# Remote tasks\n",
    "\n",
    "These are simple examples to demonstrate the use of Ray's (**stateless**) Tasks API.\n",
    "The Ray specific items:\n",
    "* `@ray.remote` decorator indicates that this is a remote function.\n",
    "* `dot.remote(id1, id2)` invokes the function to run asynchronously.\n",
    "* `ray.get(id3)` gets the return value of the remote function."
   ]
  },
  {
   "cell_type": "code",
   "execution_count": 3,
   "id": "309152a6",
   "metadata": {},
   "outputs": [],
   "source": [
    "@ray.remote\n",
    "def zeros(shape):\n",
    "    return np.zeros(shape)\n",
    "\n",
    "@ray.remote\n",
    "def randoms(shape):\n",
    "    return np.random.randint(10, size=shape)"
   ]
  },
  {
   "cell_type": "code",
   "execution_count": 4,
   "id": "f5adc96d",
   "metadata": {},
   "outputs": [],
   "source": [
    "@ray.remote\n",
    "def dot(a, b):\n",
    "    return np.dot(a, b)"
   ]
  },
  {
   "cell_type": "code",
   "execution_count": 5,
   "id": "8b8e3d21",
   "metadata": {},
   "outputs": [],
   "source": [
    "id1 = zeros.remote([4,4])\n",
    "id2 = zeros.remote([4,4])\n",
    "id3 = dot.remote(id1, id2)"
   ]
  },
  {
   "cell_type": "code",
   "execution_count": 6,
   "id": "77973191",
   "metadata": {},
   "outputs": [
    {
     "name": "stdout",
     "output_type": "stream",
     "text": [
      "[[0. 0. 0. 0.]\n",
      " [0. 0. 0. 0.]\n",
      " [0. 0. 0. 0.]\n",
      " [0. 0. 0. 0.]]\n"
     ]
    }
   ],
   "source": [
    "result = ray.get(id3)\n",
    "print(result)"
   ]
  },
  {
   "cell_type": "markdown",
   "id": "e98a23e8",
   "metadata": {},
   "source": [
    "## The task DAG\n",
    "\n",
    "```py\n",
    "randoms   randoms\n",
    "   |         |\n",
    "  \\|/       \\|/\n",
    "  id1       id2\n",
    "    \\       / \n",
    "     \\     /\n",
    "      \\   /\n",
    "       \\ /\n",
    "       dot\n",
    "        |\n",
    "       \\|/\n",
    "       id3\n",
    "```"
   ]
  },
  {
   "cell_type": "code",
   "execution_count": 7,
   "id": "356af39c",
   "metadata": {},
   "outputs": [],
   "source": [
    "id1 = randoms.remote([5,5])\n",
    "id2 = randoms.remote([5,5])\n",
    "id3 = dot.remote(id1, id2)"
   ]
  },
  {
   "cell_type": "code",
   "execution_count": 8,
   "id": "902cabc4",
   "metadata": {},
   "outputs": [],
   "source": [
    "obj1 = ray.get(id1)\n",
    "obj2 = ray.get(id2)\n",
    "obj3 = ray.get(id3)"
   ]
  },
  {
   "cell_type": "code",
   "execution_count": 9,
   "id": "d235e624",
   "metadata": {},
   "outputs": [
    {
     "name": "stdout",
     "output_type": "stream",
     "text": [
      "[[3 1 1 0 6]\n",
      " [7 4 8 2 9]\n",
      " [8 8 0 0 9]\n",
      " [1 5 8 0 9]\n",
      " [7 0 5 0 1]]\n",
      "[[5 1 2 5 9]\n",
      " [5 9 0 9 8]\n",
      " [9 1 4 2 3]\n",
      " [1 9 9 9 5]\n",
      " [8 0 8 9 6]]\n",
      "[[ 77  13  58  80  74]\n",
      " [201  69 136 186 183]\n",
      " [152  80  88 193 190]\n",
      " [174  54 106 147 127]\n",
      " [ 88  12  42  54  84]]\n"
     ]
    }
   ],
   "source": [
    "print(obj1)\n",
    "print(obj2)\n",
    "print(obj3)"
   ]
  },
  {
   "cell_type": "markdown",
   "id": "806f4123",
   "metadata": {},
   "source": [
    "# Remote actors\n",
    "\n",
    "These are simple examples to demonstrate the use of Ray's (**stateful**) Actors API.\n",
    "\n",
    "An actor is associated with a decorated `@ray.remote` class. When you define an actor, you get a runtime handle (object identifier) to the actor. That handle provides access to all methods and state within the class.\n",
    "\n",
    "All of the methods within the class are `remote()`. You should think of this as\n",
    "\n",
    "* the actor is assigned to a compute resource\n",
    "* function calls package arguments (and other needed state) and ships it to the remote resource\n",
    "\n",
    "When working with actors, you should try to have your remote calls be as minimal as possible and keep state within the actor at all times. I.e., try not to send a lot of state across actors."
   ]
  },
  {
   "cell_type": "code",
   "execution_count": 10,
   "id": "d2fdf40d",
   "metadata": {},
   "outputs": [],
   "source": [
    "@ray.remote\n",
    "class Counter(object):\n",
    "    def __init__(self, arg1):\n",
    "        self.value = arg1\n",
    "\n",
    "    def increment(self):\n",
    "        self.value += 1\n",
    "        return self.value\n",
    "\n",
    "    def get_counter(self):\n",
    "        return self.value\n",
    "\n",
    "# Create an actor from this class.\n",
    "counter = Counter.remote(5)"
   ]
  },
  {
   "cell_type": "markdown",
   "id": "ff5488fb",
   "metadata": {},
   "source": [
    "## The actor DAG\n",
    "\n",
    "```sh\n",
    "   counter <-- 5\n",
    "      |\n",
    "     \\|/\n",
    "  increment --> id1\n",
    "      |\n",
    "     \\|/\n",
    "  increment --> id2\n",
    "      |\n",
    "     \\|/\n",
    "  increment --> id3\n",
    "```"
   ]
  },
  {
   "cell_type": "code",
   "execution_count": 11,
   "id": "2f98c837",
   "metadata": {},
   "outputs": [],
   "source": [
    "id1 = counter.increment.remote()\n",
    "id2 = counter.increment.remote()\n",
    "id3 = counter.increment.remote()"
   ]
  },
  {
   "cell_type": "code",
   "execution_count": 12,
   "id": "8f66a13b",
   "metadata": {},
   "outputs": [
    {
     "name": "stdout",
     "output_type": "stream",
     "text": [
      "[6, 7, 8]\n"
     ]
    }
   ],
   "source": [
    "result = ray.get([id1, id2, id3])\n",
    "print(result) # prints [6, 7, 8]"
   ]
  },
  {
   "cell_type": "code",
   "execution_count": 13,
   "id": "fa78d313",
   "metadata": {},
   "outputs": [
    {
     "name": "stderr",
     "output_type": "stream",
     "text": [
      "2023-04-03 02:43:35,695\tWARNING worker.py:1866 -- WARNING: 8 PYTHON worker processes have been started on node: cb3d96cb6c49a4de1b37f5bc8377aeb99f348ba18837b24200ea511f with address: 172.31.32.99. This could be a result of using a large number of actors, or due to tasks blocked in ray.get() calls (see https://github.com/ray-project/ray/issues/3644 for some discussion of workarounds).\n",
      "2023-04-03 02:43:35,779\tWARNING worker.py:1866 -- WARNING: 10 PYTHON worker processes have been started on node: cb3d96cb6c49a4de1b37f5bc8377aeb99f348ba18837b24200ea511f with address: 172.31.32.99. This could be a result of using a large number of actors, or due to tasks blocked in ray.get() calls (see https://github.com/ray-project/ray/issues/3644 for some discussion of workarounds).\n"
     ]
    },
    {
     "name": "stdout",
     "output_type": "stream",
     "text": [
      "[1, 1, 1, 1, 1, 1, 1, 1, 1, 1]\n",
      "[2, 3, 4, 5, 6]\n"
     ]
    }
   ],
   "source": [
    "# Create ten Counter actors, each initialized with 0.\n",
    "counters = [Counter.remote(0) for _ in range(10)]\n",
    "\n",
    "# Increment each Counter once and get the results. These tasks all happen in\n",
    "# parallel.\n",
    "results = ray.get([c.increment.remote() for c in counters])\n",
    "print(results)  # prints [1, 1, 1, 1, 1, 1, 1, 1, 1, 1]\n",
    "\n",
    "# Increment the first Counter five times. These tasks are executed serially\n",
    "# and share state.\n",
    "results = ray.get([counters[0].increment.remote() for _ in range(5)])\n",
    "print(results)  # prints [2, 3, 4, 5, 6]"
   ]
  },
  {
   "cell_type": "markdown",
   "id": "5c464bee",
   "metadata": {},
   "source": [
    "## Ray is a parallel computing framework\n",
    "\n",
    "Run a trivial program in serial to show that it is slow."
   ]
  },
  {
   "cell_type": "code",
   "execution_count": 14,
   "id": "3faec141",
   "metadata": {},
   "outputs": [
    {
     "name": "stdout",
     "output_type": "stream",
     "text": [
      "Executing the for loop took 8.008 seconds.\n",
      "The results are:  [0, 1, 2, 3, 4, 5, 6, 7]\n"
     ]
    }
   ],
   "source": [
    "# A function simulating a more interesting computation that takes one second.\n",
    "def slow_function(i):\n",
    "    time.sleep(1)\n",
    "    return i\n",
    "\n",
    "start_time = time.time()\n",
    "results = []\n",
    "for i in range(8):\n",
    "    results.append(slow_function(i))\n",
    "    \n",
    "duration = time.time() - start_time\n",
    "print(\"Executing the for loop took {:.3f} seconds.\".format(duration))\n",
    "print(\"The results are: \", results)"
   ]
  },
  {
   "cell_type": "markdown",
   "id": "f230fa5a",
   "metadata": {},
   "source": [
    "Parallelize the same computation with remote task functions. \n",
    "A trivially parallelizeable program has a speedup of 2-e on two cores. "
   ]
  },
  {
   "cell_type": "code",
   "execution_count": 15,
   "id": "e3a46564",
   "metadata": {},
   "outputs": [
    {
     "name": "stderr",
     "output_type": "stream",
     "text": [
      "2023-04-03 02:43:49,764\tWARNING worker.py:1866 -- WARNING: 14 PYTHON worker processes have been started on node: cb3d96cb6c49a4de1b37f5bc8377aeb99f348ba18837b24200ea511f with address: 172.31.32.99. This could be a result of using a large number of actors, or due to tasks blocked in ray.get() calls (see https://github.com/ray-project/ray/issues/3644 for some discussion of workarounds).\n"
     ]
    },
    {
     "name": "stdout",
     "output_type": "stream",
     "text": [
      "Executing the for loop took 5.235 seconds.\n",
      "The results are:  [0, 1, 2, 3, 4, 5, 6, 7]\n"
     ]
    }
   ],
   "source": [
    "@ray.remote\n",
    "def slow_function(i):\n",
    "    time.sleep(1)\n",
    "    return i\n",
    "\n",
    "start_time = time.time()\n",
    "\n",
    "results = []\n",
    "oids = []\n",
    "\n",
    "for i in range(8):\n",
    "    oids.append(slow_function.remote(i))\n",
    "    \n",
    "for i in range(8):\n",
    "    results.append(ray.get(oids[i]))\n",
    "\n",
    "duration = time.time() - start_time\n",
    "print(\"Executing the for loop took {:.3f} seconds.\".format(duration))\n",
    "print(\"The results are: \", results)"
   ]
  }
 ],
 "metadata": {
  "kernelspec": {
   "display_name": "Python 3 (ipykernel)",
   "language": "python",
   "name": "python3"
  },
  "language_info": {
   "codemirror_mode": {
    "name": "ipython",
    "version": 3
   },
   "file_extension": ".py",
   "mimetype": "text/x-python",
   "name": "python",
   "nbconvert_exporter": "python",
   "pygments_lexer": "ipython3",
   "version": "3.10.6"
  }
 },
 "nbformat": 4,
 "nbformat_minor": 5
}
