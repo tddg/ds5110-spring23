{
 "cells": [
  {
   "cell_type": "code",
   "execution_count": 1,
   "id": "9769fa0f",
   "metadata": {},
   "outputs": [],
   "source": [
    "import dask\n",
    "from dask.distributed import Client\n",
    "import dask.dataframe as dd\n",
    "import time\n",
    "import json\n",
    "import numpy as np"
   ]
  },
  {
   "cell_type": "code",
   "execution_count": null,
   "id": "564e23d7",
   "metadata": {},
   "outputs": [],
   "source": [
    "# TODO: fill out scheduler IP and port here when creating a client object\n",
    "client = Client('<ip>:8786')\n",
    "client = client.restart()\n",
    "print(client)"
   ]
  },
  {
   "cell_type": "code",
   "execution_count": null,
   "id": "529d115b",
   "metadata": {},
   "outputs": [],
   "source": [
    "%%time\n",
    "\n",
    "questions = dd.read_csv('/home/ubuntu/ds5110_s23_a2/questions.csv', sample=2**30, assume_missing=True)\n",
    "question_tags = dd.read_csv('/home/ubuntu/ds5110_s23_a2/question_tags.csv', sample=2**30, assume_missing=True)"
   ]
  },
  {
   "cell_type": "code",
   "execution_count": null,
   "id": "b1847f10",
   "metadata": {},
   "outputs": [],
   "source": [
    "# Task 1\n",
    "%%time\n",
    "\n",
    "# Start your implementation below this line\n"
   ]
  },
  {
   "cell_type": "code",
   "execution_count": null,
   "id": "d5f3fa86",
   "metadata": {},
   "outputs": [],
   "source": [
    "# Task 2\n",
    "%%time\n",
    "\n",
    "# Start your implementation below this line\n"
   ]
  },
  {
   "cell_type": "code",
   "execution_count": null,
   "id": "1b0722e3",
   "metadata": {},
   "outputs": [],
   "source": [
    "# Task 3\n",
    "%%time\n",
    "\n",
    "# Start your implementation below this line\n"
   ]
  },
  {
   "cell_type": "code",
   "execution_count": null,
   "id": "b6d9702e",
   "metadata": {},
   "outputs": [],
   "source": [
    "# Task 4\n",
    "%%time\n"
   ]
  },
  {
   "cell_type": "code",
   "execution_count": null,
   "id": "6d183040",
   "metadata": {},
   "outputs": [],
   "source": [
    "# Task 5\n",
    "%%time\n",
    "\n",
    "# Start your implementation below this line\n"
   ]
  },
  {
   "cell_type": "code",
   "execution_count": null,
   "id": "ee679e1c",
   "metadata": {},
   "outputs": [],
   "source": [
    "# Task 6\n",
    "%%time\n",
    "\n",
    "# Start your implementation below this line\n"
   ]
  }
 ],
 "metadata": {
  "kernelspec": {
   "display_name": "Python 3 (ipykernel)",
   "language": "python",
   "name": "python3"
  },
  "language_info": {
   "codemirror_mode": {
    "name": "ipython",
    "version": 3
   },
   "file_extension": ".py",
   "mimetype": "text/x-python",
   "name": "python",
   "nbconvert_exporter": "python",
   "pygments_lexer": "ipython3",
   "version": "3.9.6"
  }
 },
 "nbformat": 4,
 "nbformat_minor": 5
}
